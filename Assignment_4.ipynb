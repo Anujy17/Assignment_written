{
 "cells": [
  {
   "cell_type": "markdown",
   "id": "6694d4e4",
   "metadata": {},
   "source": [
    "# Assignment_4"
   ]
  },
  {
   "cell_type": "markdown",
   "id": "c48a0d7c",
   "metadata": {},
   "source": [
    "# 1. what exactly is []?\n",
    "These are called square brackets which is used for creation of empty list which contains no items."
   ]
  },
  {
   "cell_type": "markdown",
   "id": "53c93a49",
   "metadata": {},
   "source": [
    "# 2. In a list of values stored in a variable called spam, how would you assign the value 'hello' as the third value?\n",
    "(Assume [2,3,6,8] are in spam)"
   ]
  },
  {
   "cell_type": "code",
   "execution_count": 1,
   "id": "3acc0c3e",
   "metadata": {},
   "outputs": [],
   "source": [
    "spam=[2,4,6,8,10]"
   ]
  },
  {
   "cell_type": "code",
   "execution_count": 2,
   "id": "342a1e74",
   "metadata": {},
   "outputs": [],
   "source": [
    "# inserting 'hello' at third position\n",
    "spam[2]='hello'"
   ]
  },
  {
   "cell_type": "code",
   "execution_count": 3,
   "id": "efbb2041",
   "metadata": {},
   "outputs": [
    {
     "data": {
      "text/plain": [
       "[2, 4, 'hello', 8, 10]"
      ]
     },
     "execution_count": 3,
     "metadata": {},
     "output_type": "execute_result"
    }
   ],
   "source": [
    "spam"
   ]
  },
  {
   "cell_type": "code",
   "execution_count": 4,
   "id": "80f78f91",
   "metadata": {},
   "outputs": [],
   "source": [
    "#lets pretend the spam includes the list ['a','b','c','d'] for the next three queries\n",
    "\n",
    "spam =['a','b','c','d']"
   ]
  },
  {
   "cell_type": "markdown",
   "id": "49cd6085",
   "metadata": {},
   "source": [
    "# 3. What is the value of spam[int(int('3' * 2) / 11)]?\n",
    "\n",
    "Answer would be 'd' because '3' * 2 gives '33' and to int it is 33\n",
    "if you divide it by 11 then it is 3\n",
    "the third index is 'd'"
   ]
  },
  {
   "cell_type": "code",
   "execution_count": 6,
   "id": "8f0795dd",
   "metadata": {},
   "outputs": [
    {
     "data": {
      "text/plain": [
       "'d'"
      ]
     },
     "execution_count": 6,
     "metadata": {},
     "output_type": "execute_result"
    }
   ],
   "source": [
    "spam[int(int('3'*2)/11)]"
   ]
  },
  {
   "cell_type": "markdown",
   "id": "85867f70",
   "metadata": {},
   "source": [
    "# 4. What is the value of spam[-1]?\n",
    "\n",
    "Answer would be the last item from the list i.e. 'd'"
   ]
  },
  {
   "cell_type": "code",
   "execution_count": 8,
   "id": "db1251d9",
   "metadata": {},
   "outputs": [
    {
     "data": {
      "text/plain": [
       "'d'"
      ]
     },
     "execution_count": 8,
     "metadata": {},
     "output_type": "execute_result"
    }
   ],
   "source": [
    "spam[-1]"
   ]
  },
  {
   "cell_type": "markdown",
   "id": "21c0847c",
   "metadata": {},
   "source": [
    "# 5.What is the value of spam[:2]?\n",
    "It is going to fetch all the items including first index and excluding last index i.e. ['a','b']\n"
   ]
  },
  {
   "cell_type": "code",
   "execution_count": 9,
   "id": "c5388241",
   "metadata": {},
   "outputs": [
    {
     "data": {
      "text/plain": [
       "['a', 'b']"
      ]
     },
     "execution_count": 9,
     "metadata": {},
     "output_type": "execute_result"
    }
   ],
   "source": [
    "spam[:2]"
   ]
  },
  {
   "cell_type": "markdown",
   "id": "d4bfebf1",
   "metadata": {},
   "source": [
    "Let's pretend bacon has the list [3.14, 'cat,' 11, 'cat,' True] for the next three questions."
   ]
  },
  {
   "cell_type": "code",
   "execution_count": 13,
   "id": "3db44130",
   "metadata": {},
   "outputs": [
    {
     "data": {
      "text/plain": [
       "[3.14, 'cat', 11, 'cat', True]"
      ]
     },
     "execution_count": 13,
     "metadata": {},
     "output_type": "execute_result"
    }
   ],
   "source": [
    "bacon=[3.14, 'cat' ,11, 'cat', True]\n",
    "bacon"
   ]
  },
  {
   "cell_type": "markdown",
   "id": "5f05754b",
   "metadata": {},
   "source": [
    "# 6. What is the value of bacon.index('cat')?\n",
    "it is going to give the index of the first value which is found in the list i.e. 1"
   ]
  },
  {
   "cell_type": "code",
   "execution_count": 15,
   "id": "c2f97a65",
   "metadata": {},
   "outputs": [
    {
     "data": {
      "text/plain": [
       "1"
      ]
     },
     "execution_count": 15,
     "metadata": {},
     "output_type": "execute_result"
    }
   ],
   "source": [
    "bacon.index('cat')"
   ]
  },
  {
   "cell_type": "markdown",
   "id": "104d6610",
   "metadata": {},
   "source": [
    "## 7. How does bacon.append(99) change the look of the list value in bacon?\n",
    "append function add specified item to the end of list "
   ]
  },
  {
   "cell_type": "code",
   "execution_count": 18,
   "id": "b2e23368",
   "metadata": {},
   "outputs": [],
   "source": [
    "bacon.append(99)"
   ]
  },
  {
   "cell_type": "code",
   "execution_count": 23,
   "id": "d3be0e93",
   "metadata": {},
   "outputs": [
    {
     "data": {
      "text/plain": [
       "[3.14, 'cat', 11, 'cat', True, 99]"
      ]
     },
     "execution_count": 23,
     "metadata": {},
     "output_type": "execute_result"
    }
   ],
   "source": [
    "bacon"
   ]
  },
  {
   "cell_type": "markdown",
   "id": "ea9a387a",
   "metadata": {},
   "source": [
    "# 8. How does bacon.remove('cat') change the look of the list in bacon?\n",
    "remove function is going to remove first occurence of specified item "
   ]
  },
  {
   "cell_type": "code",
   "execution_count": 24,
   "id": "a6a8eefa",
   "metadata": {},
   "outputs": [],
   "source": [
    "bacon.remove('cat')"
   ]
  },
  {
   "cell_type": "code",
   "execution_count": 25,
   "id": "d1729a1a",
   "metadata": {},
   "outputs": [
    {
     "data": {
      "text/plain": [
       "[3.14, 11, 'cat', True, 99]"
      ]
     },
     "execution_count": 25,
     "metadata": {},
     "output_type": "execute_result"
    }
   ],
   "source": [
    "bacon"
   ]
  },
  {
   "cell_type": "markdown",
   "id": "98ba35b8",
   "metadata": {},
   "source": [
    "# 9. What are the list concatenation and list replication operators?\n",
    "\n",
    "1) concatenation operator is +\n",
    "2) and replication operator is *"
   ]
  },
  {
   "cell_type": "markdown",
   "id": "1612dc2c",
   "metadata": {},
   "source": [
    "# 10. What is difference between the list methods append() and insert()?\n",
    "append() function is only going to take value which is inserted at the end of list             while insert() function is going to take position and value and going to insert value at given postion"
   ]
  },
  {
   "cell_type": "markdown",
   "id": "428275bd",
   "metadata": {},
   "source": [
    "# 11. What are the two methods for removing items from a list?\n",
    "del and remove() "
   ]
  },
  {
   "cell_type": "markdown",
   "id": "ae2ac8f2",
   "metadata": {},
   "source": [
    "# 12. Describe how list values and string values are identical.\n",
    "we can use indexing in both as well as we have len() function slicing is also same concatenation and replication operators works on both in similar way"
   ]
  },
  {
   "cell_type": "markdown",
   "id": "502ceff3",
   "metadata": {},
   "source": [
    "# 13. What's the difference between tuples and lists?\n",
    "list is mutable which means we can change value of list whenever we require and tuple is immutable which means that we can not change it's value "
   ]
  },
  {
   "cell_type": "markdown",
   "id": "fad0d28c",
   "metadata": {},
   "source": [
    "# 14. How do you type a tuple value that only contains the integer 42?\n"
   ]
  },
  {
   "cell_type": "code",
   "execution_count": 26,
   "id": "8072771f",
   "metadata": {},
   "outputs": [],
   "source": [
    "tup=(42,)"
   ]
  },
  {
   "cell_type": "code",
   "execution_count": 27,
   "id": "4b7cade2",
   "metadata": {},
   "outputs": [
    {
     "data": {
      "text/plain": [
       "(42,)"
      ]
     },
     "execution_count": 27,
     "metadata": {},
     "output_type": "execute_result"
    }
   ],
   "source": [
    "tup"
   ]
  },
  {
   "cell_type": "markdown",
   "id": "7966fd2d",
   "metadata": {},
   "source": [
    "# 15. How do you get a list value's tuple form? How do you get a tuple value's list form?\n"
   ]
  },
  {
   "cell_type": "code",
   "execution_count": 29,
   "id": "d23b6c06",
   "metadata": {},
   "outputs": [
    {
     "data": {
      "text/plain": [
       "(1, 2, 3)"
      ]
     },
     "execution_count": 29,
     "metadata": {},
     "output_type": "execute_result"
    }
   ],
   "source": [
    "a=[1,2,3]\n",
    "\n",
    "# to get it tuple value \n",
    "b=tuple(a)\n",
    "b"
   ]
  },
  {
   "cell_type": "code",
   "execution_count": 31,
   "id": "d88a85c1",
   "metadata": {},
   "outputs": [
    {
     "data": {
      "text/plain": [
       "[1, 2, 3]"
      ]
     },
     "execution_count": 31,
     "metadata": {},
     "output_type": "execute_result"
    }
   ],
   "source": [
    "a=(1,2,3)\n",
    "\n",
    "#to get list value\n",
    "b=list(a)\n",
    "b"
   ]
  },
  {
   "cell_type": "markdown",
   "id": "e370197c",
   "metadata": {},
   "source": [
    "# 16. Variables that \"contain\" list values are not necessarily lists themselves. Instead, what do they contain?\n",
    "they can reference to the memory address of the list values \n"
   ]
  },
  {
   "cell_type": "markdown",
   "id": "6dabf596",
   "metadata": {},
   "source": [
    "# 17. How do you distinguish between copy.copy() and copy.deepcopy()?\n",
    "\n"
   ]
  },
  {
   "cell_type": "markdown",
   "id": "9b896de1",
   "metadata": {},
   "source": [
    "when we assign a list variable with some values and another list is using that value using = operator in that case both are sharing same memory location so when we change any of the list it is going to appear in both "
   ]
  },
  {
   "cell_type": "code",
   "execution_count": 35,
   "id": "e6f60853",
   "metadata": {},
   "outputs": [
    {
     "name": "stdout",
     "output_type": "stream",
     "text": [
      "lst1 [1, 100, 3]\n",
      "lst2 [1, 100, 3]\n"
     ]
    }
   ],
   "source": [
    "lst1=[1,2,3]\n",
    "lst2=lst1\n",
    "lst2[1]=100\n",
    "print('lst1',lst1)\n",
    "print('lst2',lst2)"
   ]
  },
  {
   "cell_type": "markdown",
   "id": "f314647e",
   "metadata": {},
   "source": [
    "to avoid this situation we have concept of shallow copy and deepcopy\n",
    "they works similar when list is flat but when list is nested in that they works differently"
   ]
  },
  {
   "cell_type": "markdown",
   "id": "f02c3e0a",
   "metadata": {},
   "source": [
    "copy.copy() is called shallow copy and copy.deepcopy() is called deepcopy"
   ]
  },
  {
   "cell_type": "markdown",
   "id": "3f678b0c",
   "metadata": {},
   "source": [
    "in shallow copy the copy of entire list is created and assigned to the new list but in nested list it is going to reference same object of nested list when we change any item it appears in both but in deepcopy copy of nested list is also being made recursively avoid this situation"
   ]
  },
  {
   "cell_type": "code",
   "execution_count": null,
   "id": "0905e78c",
   "metadata": {},
   "outputs": [],
   "source": []
  }
 ],
 "metadata": {
  "kernelspec": {
   "display_name": "Python 3 (ipykernel)",
   "language": "python",
   "name": "python3"
  },
  "language_info": {
   "codemirror_mode": {
    "name": "ipython",
    "version": 3
   },
   "file_extension": ".py",
   "mimetype": "text/x-python",
   "name": "python",
   "nbconvert_exporter": "python",
   "pygments_lexer": "ipython3",
   "version": "3.9.12"
  }
 },
 "nbformat": 4,
 "nbformat_minor": 5
}
