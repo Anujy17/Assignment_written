{
 "cells": [
  {
   "cell_type": "markdown",
   "id": "ce3796c1",
   "metadata": {},
   "source": [
    "# Assignment 7"
   ]
  },
  {
   "cell_type": "markdown",
   "id": "d5261db0",
   "metadata": {},
   "source": [
    "# 1. What is the name of the feature responsible for generating Regex objects?\n",
    "re.compile()"
   ]
  },
  {
   "cell_type": "markdown",
   "id": "df37f128",
   "metadata": {},
   "source": [
    "# 2. Why do raw strings often appear in Regex objects?\n",
    "so that backslash do not escaped"
   ]
  },
  {
   "cell_type": "markdown",
   "id": "f3c73b65",
   "metadata": {},
   "source": [
    "# 3. What is the return value of the search() method?\n",
    "it returns the match object and if not found return None."
   ]
  },
  {
   "cell_type": "markdown",
   "id": "a8ba0ac5",
   "metadata": {},
   "source": [
    "# 4. From a Match item, how do you get the actual strings that match the pattern?\n",
    "by using object of match and group() function"
   ]
  },
  {
   "cell_type": "markdown",
   "id": "7b2753ce",
   "metadata": {},
   "source": [
    "# 5. In the regex which created from the r&#39;(\\d\\d\\d)-(\\d\\d\\d-\\d\\d\\d\\d)&#39;, what does group zero cover?Group 2? Group 1?\n",
    "\n",
    "group 0 contains the entire string Group 1 contain the first paranthesis\n",
    "Group 2 contains the second paranthesis"
   ]
  },
  {
   "cell_type": "markdown",
   "id": "405e2739",
   "metadata": {},
   "source": [
    "# 6. In standard expression syntax, parentheses and intervals have distinct meanings. How can you tell a regex that you want it to fit real parentheses and periods?\n",
    "\n",
    "it can be done using backslash "
   ]
  },
  {
   "cell_type": "markdown",
   "id": "68190420",
   "metadata": {},
   "source": [
    "# 7. The findall() method returns a string list or a list of string tuples. What causes it to return one of the two options?\n",
    "it returns list of string if regex has groups then tuples of list is returned"
   ]
  },
  {
   "cell_type": "markdown",
   "id": "bb46031f",
   "metadata": {},
   "source": [
    "# 8. In standard expressions, what does the | character mean?\n",
    "it means either left side or right side character to be matched"
   ]
  },
  {
   "cell_type": "markdown",
   "id": "fb586d78",
   "metadata": {},
   "source": [
    "# 9. In regular expressions, what does the character stand for?\n",
    "? stands for 0 or 1 occurence of specified expression"
   ]
  },
  {
   "cell_type": "markdown",
   "id": "95798c43",
   "metadata": {},
   "source": [
    "# 10.In regular expressions, what is the difference between the + and * characters?\n",
    "'+' stands for 1 or more occurence whereas '*' means 0 or 1 occurence\n"
   ]
  },
  {
   "cell_type": "markdown",
   "id": "a22b49c1",
   "metadata": {},
   "source": [
    "# 11. What is the difference between {4} and {4,5} in regular expression?\n",
    "{4} is going to search for occurence exactly four times where as {4,5} serch for atleast four and atmost 5 times in the string"
   ]
  },
  {
   "cell_type": "markdown",
   "id": "cf8c175d",
   "metadata": {},
   "source": [
    "# 12. What do you mean by the \\d, \\w, and \\s shorthand character classes signify in regular expression?\n",
    "\\d stands for numeric character \\w stands for alphanumeric character where as \\s stands for whitespace character\n"
   ]
  },
  {
   "cell_type": "markdown",
   "id": "b95174d7",
   "metadata": {},
   "source": [
    "# 13. What do means by \\D, \\W, and \\S shorthand character classes signify in regular expressions?\n",
    "\\D stands for non-numeric characters \\W stands for non-alphanumeric characters whereas \\S stands for non-whitespace character"
   ]
  },
  {
   "cell_type": "markdown",
   "id": "f08cdeb0",
   "metadata": {},
   "source": [
    "# 14. What is the difference between .*? and .*?\n",
    "The . performs a greedy match, and the .? performs a nongreedy match."
   ]
  },
  {
   "cell_type": "markdown",
   "id": "7703d7fd",
   "metadata": {},
   "source": [
    "# 15. What is the syntax for matching both numbers and lowercase letters with a character class?\n",
    "[0-9a-z] or [a-z0-9]"
   ]
  },
  {
   "cell_type": "markdown",
   "id": "45a4c419",
   "metadata": {},
   "source": [
    "# 16. What is the procedure for making a normal expression in regax case insensitive?\n",
    "we can use re.I or re.IGNORECASE"
   ]
  },
  {
   "cell_type": "markdown",
   "id": "5b7c7868",
   "metadata": {},
   "source": [
    "# 17. What does the . character normally match? What does it match if re.DOTALL is passed as 2nd argument in re.compile()?\n",
    "The . character normally matches any character except the newline character. If re.DOTALL is passed as the second argument to re.compile(), then the dot will also match newline characters."
   ]
  },
  {
   "cell_type": "markdown",
   "id": "2fdc6a57",
   "metadata": {},
   "source": [
    "# 18. If numReg = re.compile(r'\\d+'), what will numRegex.sub('X', '11 drummers, 10 pipers, five rings, 4 hen') return?\n",
    "'X drummers, X pipers, five rings, X hens'"
   ]
  },
  {
   "cell_type": "markdown",
   "id": "c22bef41",
   "metadata": {},
   "source": [
    "# 19. What does passing re.VERBOSE as the 2nd argument to re.compile() allow to do?\n",
    "The re.VERBOSE argument allows you to add whitespace and comments to the string passed to re.compile()."
   ]
  },
  {
   "cell_type": "markdown",
   "id": "7ef9bcbd",
   "metadata": {},
   "source": [
    "# 20. How would you write a regex that match a number with comma for every three digits? It must match the given following:\n",
    "'42' '1,234' '6,368,745' but not the following '12,34,567'(which has only two digits between the commas) '1234' (which lacks commas)"
   ]
  },
  {
   "cell_type": "markdown",
   "id": "ab5fe561",
   "metadata": {},
   "source": [
    "re.compile(r'^\\d{1,3}(,\\d{3})*$')"
   ]
  },
  {
   "cell_type": "markdown",
   "id": "a5e2f7f5",
   "metadata": {},
   "source": [
    "# 21. How would you write a regex that matches the full name of someone whose last name is Watanabe? You can assume that the first name that comes before it will always be one word that begins with a capital letter. The regex must match the following:\n",
    "'Haruto Watanabe' 'Alice Watanabe' 'RoboCop Watanabe' but not the following: 'haruto Watanabe' (where the first name is not capitalized) 'Mr. Watanabe' (where the preceding word has a nonletter character) 'Watanabe' (which has no first name) 'Haruto watanabe' (where Watanabe is not capitalized)"
   ]
  },
  {
   "cell_type": "markdown",
   "id": "00fadf78",
   "metadata": {},
   "source": [
    "re.compile(r'\\s([A-Z]\\w+)\\s(Watanabe)')"
   ]
  },
  {
   "cell_type": "markdown",
   "id": "c95d269d",
   "metadata": {},
   "source": [
    "# 22. How would you write a regex that matches a sentence where the first word is either Alice, Bob, or Carol; the second word is either eats, pets, or throws; the third word is apples, cats, or baseballs; and the sentence ends with a period? This regex should be case-insensitive. It must match the following:\n",
    "'Alice eats apples.' 'Bob pets cats.' 'Carol throws baseballs.' 'Alice throws Apples.' 'BOB EATS CATS.' but not the following: 'RoboCop eats apples.' 'ALICE THROWS FOOTBALLS.' 'Carol eats 7 cats.'"
   ]
  },
  {
   "cell_type": "markdown",
   "id": "bb1f71a0",
   "metadata": {},
   "source": [
    "re.compile(r'(Alice|Bob|Carol)\\s(eats|pets|throws)\\s(apples|cats|baseballs).', re.IGNORECASE)"
   ]
  },
  {
   "cell_type": "code",
   "execution_count": null,
   "id": "2d4951c6",
   "metadata": {},
   "outputs": [],
   "source": []
  }
 ],
 "metadata": {
  "kernelspec": {
   "display_name": "Python 3 (ipykernel)",
   "language": "python",
   "name": "python3"
  },
  "language_info": {
   "codemirror_mode": {
    "name": "ipython",
    "version": 3
   },
   "file_extension": ".py",
   "mimetype": "text/x-python",
   "name": "python",
   "nbconvert_exporter": "python",
   "pygments_lexer": "ipython3",
   "version": "3.9.12"
  }
 },
 "nbformat": 4,
 "nbformat_minor": 5
}
