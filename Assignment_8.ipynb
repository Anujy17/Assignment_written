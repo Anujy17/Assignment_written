{
 "cells": [
  {
   "cell_type": "markdown",
   "id": "44cd1010",
   "metadata": {},
   "source": [
    "# Assignment_8"
   ]
  },
  {
   "cell_type": "markdown",
   "id": "39948ae4",
   "metadata": {},
   "source": [
    "# 1. Is the Python Standard Library included with PyInputPlus?\n",
    "No we have to install manually by pip install PyInputPlus"
   ]
  },
  {
   "cell_type": "markdown",
   "id": "9b991dcd",
   "metadata": {},
   "source": [
    "# 2. Why is PyInputPlus commonly imported with import pyinputplus as pypi?\n",
    "it's totally depends on our self by which name we wanted to import by keeping shorter name like pypi we do not have any hasitation about typing pyinputplus again and again"
   ]
  },
  {
   "cell_type": "markdown",
   "id": "fa6112dd",
   "metadata": {},
   "source": [
    "# 3. How do you distinguish between inputInt() and inputFloat()?\n",
    "return type of inputInt() is int while inputFloat() is float."
   ]
  },
  {
   "cell_type": "markdown",
   "id": "a64da67e",
   "metadata": {},
   "source": [
    "# 4. Using PyInputPlus, how do you ensure that the user enters a whole number between 0 and 99?\n",
    "inp=inputInt(prompt=\"entert the number \",min =0,max=99)"
   ]
  },
  {
   "cell_type": "markdown",
   "id": "5803d05a",
   "metadata": {},
   "source": [
    "# 5. What is transferred to the keyword arguments allowRegexes and blockRegexes?\n",
    "by using allowRegexes we can allow string of defined pattern and with blockRegexes we can block string of defined pattern "
   ]
  },
  {
   "cell_type": "markdown",
   "id": "903fff82",
   "metadata": {},
   "source": [
    "# 6. If a blank input is entered three times, what does inputStr(limit=3) do?\n",
    "it will give an error that RetryLimitException"
   ]
  },
  {
   "cell_type": "markdown",
   "id": "2c98e859",
   "metadata": {},
   "source": [
    "# 7. If blank input is entered three times, what does inputStr(limit=3, default=&#39;hello&#39;) do?\n",
    "it is going to take the default value i.e. hello"
   ]
  },
  {
   "cell_type": "code",
   "execution_count": null,
   "id": "490203bc",
   "metadata": {},
   "outputs": [],
   "source": []
  }
 ],
 "metadata": {
  "kernelspec": {
   "display_name": "Python 3 (ipykernel)",
   "language": "python",
   "name": "python3"
  },
  "language_info": {
   "codemirror_mode": {
    "name": "ipython",
    "version": 3
   },
   "file_extension": ".py",
   "mimetype": "text/x-python",
   "name": "python",
   "nbconvert_exporter": "python",
   "pygments_lexer": "ipython3",
   "version": "3.9.12"
  }
 },
 "nbformat": 4,
 "nbformat_minor": 5
}
